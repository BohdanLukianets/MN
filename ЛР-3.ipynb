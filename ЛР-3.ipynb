{
  "cells": [
    {
      "cell_type": "code",
      "source": [
        "import tensorflow as tf\n",
        "from tensorflow import keras\n",
        "from tensorflow.keras import layers\n",
        "import numpy as np\n",
        "\n",
        "(x_train, y_train), (x_test, y_test) = keras.datasets.fashion_mnist.load_data()"
      ],
      "outputs": [],
      "execution_count": 1,
      "metadata": {},
      "id": "7fe387b3"
    },
    {
      "cell_type": "code",
      "source": [
        "x_train = x_train.astype(\"float32\") / 255.0\n",
        "x_test = x_test.astype(\"float32\") / 255.0\n",
        "\n",
        "x_train = x_train.reshape(-1, 28*28)\n",
        "x_test = x_test.reshape(-1, 28*28)"
      ],
      "outputs": [],
      "execution_count": 2,
      "metadata": {},
      "id": "ab4c287b"
    },
    {
      "cell_type": "code",
      "source": [
        "model = keras.Sequential(\n",
        "    [\n",
        "        keras.Input(shape=(28*28)),\n",
        "        layers.Dense(256, activation=\"relu\"),\n",
        "        layers.Dropout(0.3),\n",
        "        layers.Dense(128, activation=\"relu\"),\n",
        "        layers.Dropout(0.3),\n",
        "        layers.Dense(64, activation=\"relu\"),\n",
        "        layers.Dropout(0.3),\n",
        "        layers.Dense(10, activation=\"softmax\"),\n",
        "    ]\n",
        ")\n",
        "\n",
        "model.summary()"
      ],
      "outputs": [
        {
          "output_type": "stream",
          "name": "stdout",
          "text": "Model: \"sequential\"\n_________________________________________________________________\n Layer (type)                Output Shape              Param #   \n=================================================================\n dense (Dense)               (None, 256)               200960    \n                                                                 \n dropout (Dropout)           (None, 256)               0         \n                                                                 \n dense_1 (Dense)             (None, 128)               32896     \n                                                                 \n dropout_1 (Dropout)         (None, 128)               0         \n                                                                 \n dense_2 (Dense)             (None, 64)                8256      \n                                                                 \n dropout_2 (Dropout)         (None, 64)                0         \n                                                                 \n dense_3 (Dense)             (None, 10)                650       \n                                                                 \n=================================================================\nTotal params: 242,762\nTrainable params: 242,762\nNon-trainable params: 0\n_________________________________________________________________\n"
        }
      ],
      "execution_count": 3,
      "metadata": {},
      "id": "29894c23"
    },
    {
      "cell_type": "code",
      "source": [
        "model.compile(\n",
        "    loss=\"categorical_crossentropy\", optimizer=\"adam\", metrics=[\"accuracy\"]\n",
        ")"
      ],
      "outputs": [],
      "execution_count": 4,
      "metadata": {},
      "id": "c898edc4"
    },
    {
      "cell_type": "code",
      "source": [
        "batch_size = 64\n",
        "epochs = 20\n",
        "\n",
        "model.fit(x_train, keras.utils.to_categorical(y_train, 10), batch_size=batch_size, epochs=epochs, validation_split=0.1)"
      ],
      "outputs": [
        {
          "output_type": "stream",
          "name": "stdout",
          "text": "Epoch 1/20\n844/844 [==============================] - 5s 5ms/step - loss: 0.6924 - accuracy: 0.7511 - val_loss: 0.4285 - val_accuracy: 0.8422\nEpoch 2/20\n844/844 [==============================] - 4s 4ms/step - loss: 0.4745 - accuracy: 0.8324 - val_loss: 0.3952 - val_accuracy: 0.8552\nEpoch 3/20\n844/844 [==============================] - 4s 4ms/step - loss: 0.4287 - accuracy: 0.8463 - val_loss: 0.3618 - val_accuracy: 0.8665\nEpoch 4/20\n844/844 [==============================] - 4s 5ms/step - loss: 0.4093 - accuracy: 0.8549 - val_loss: 0.3557 - val_accuracy: 0.8670\nEpoch 5/20\n844/844 [==============================] - 4s 4ms/step - loss: 0.3879 - accuracy: 0.8591 - val_loss: 0.3703 - val_accuracy: 0.8610\nEpoch 6/20\n844/844 [==============================] - 4s 4ms/step - loss: 0.3774 - accuracy: 0.8654 - val_loss: 0.3550 - val_accuracy: 0.8712\nEpoch 7/20\n844/844 [==============================] - 3s 4ms/step - loss: 0.3648 - accuracy: 0.8679 - val_loss: 0.3415 - val_accuracy: 0.8730\nEpoch 8/20\n844/844 [==============================] - 4s 4ms/step - loss: 0.3534 - accuracy: 0.8734 - val_loss: 0.3388 - val_accuracy: 0.8787\nEpoch 9/20\n844/844 [==============================] - 4s 4ms/step - loss: 0.3438 - accuracy: 0.8750 - val_loss: 0.3250 - val_accuracy: 0.8808\nEpoch 10/20\n844/844 [==============================] - 3s 4ms/step - loss: 0.3377 - accuracy: 0.8781 - val_loss: 0.3222 - val_accuracy: 0.8795\nEpoch 11/20\n844/844 [==============================] - 3s 4ms/step - loss: 0.3319 - accuracy: 0.8802 - val_loss: 0.3242 - val_accuracy: 0.8813\nEpoch 12/20\n844/844 [==============================] - 3s 4ms/step - loss: 0.3243 - accuracy: 0.8820 - val_loss: 0.3203 - val_accuracy: 0.8837\nEpoch 13/20\n844/844 [==============================] - 4s 5ms/step - loss: 0.3220 - accuracy: 0.8836 - val_loss: 0.3372 - val_accuracy: 0.8787\nEpoch 14/20\n844/844 [==============================] - 4s 4ms/step - loss: 0.3111 - accuracy: 0.8879 - val_loss: 0.3266 - val_accuracy: 0.8838\nEpoch 15/20\n844/844 [==============================] - 4s 4ms/step - loss: 0.3079 - accuracy: 0.8880 - val_loss: 0.3091 - val_accuracy: 0.8873\nEpoch 16/20\n844/844 [==============================] - 4s 4ms/step - loss: 0.3097 - accuracy: 0.8875 - val_loss: 0.3058 - val_accuracy: 0.8902\nEpoch 17/20\n844/844 [==============================] - 4s 5ms/step - loss: 0.2989 - accuracy: 0.8906 - val_loss: 0.3216 - val_accuracy: 0.8853\nEpoch 18/20\n844/844 [==============================] - 4s 4ms/step - loss: 0.2992 - accuracy: 0.8913 - val_loss: 0.3121 - val_accuracy: 0.8870\nEpoch 19/20\n844/844 [==============================] - 3s 4ms/step - loss: 0.2981 - accuracy: 0.8913 - val_loss: 0.3114 - val_accuracy: 0.8867\nEpoch 20/20\n844/844 [==============================] - 4s 4ms/step - loss: 0.2905 - accuracy: 0.8929 - val_loss: 0.3173 - val_accuracy: 0.8823\n"
        },
        {
          "output_type": "execute_result",
          "execution_count": 5,
          "data": {
            "text/plain": "<keras.callbacks.History at 0x2085bbfe9d0>"
          },
          "metadata": {}
        }
      ],
      "execution_count": 5,
      "metadata": {},
      "id": "899bc185"
    },
    {
      "cell_type": "code",
      "source": [
        "test_loss, test_acc = model.evaluate(x_test, keras.utils.to_categorical(y_test, 10))\n",
        "print(\"Test accuracy:\", test_acc)"
      ],
      "outputs": [
        {
          "output_type": "stream",
          "name": "stdout",
          "text": "313/313 [==============================] - 1s 2ms/step - loss: 0.3338 - accuracy: 0.8819\nTest accuracy: 0.8819000124931335\n"
        }
      ],
      "execution_count": 6,
      "metadata": {},
      "id": "271baf28"
    },
    {
      "cell_type": "code",
      "source": [],
      "outputs": [],
      "execution_count": null,
      "metadata": {},
      "id": "49ac09e3"
    }
  ],
  "metadata": {
    "kernelspec": {
      "name": "python",
      "language": "python",
      "display_name": "Pyolite (preview)"
    },
    "language_info": {
      "codemirror_mode": {
        "name": "python",
        "version": 3
      },
      "file_extension": ".py",
      "mimetype": "text/x-python",
      "name": "python",
      "nbconvert_exporter": "python",
      "pygments_lexer": "ipython3",
      "version": "3.8"
    },
    "kernel_info": {
      "name": "python"
    },
    "nteract": {
      "version": "nteract-front-end@1.0.0"
    }
  },
  "nbformat": 4,
  "nbformat_minor": 5
}
